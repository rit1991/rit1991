{
 "cells": [
  {
   "cell_type": "code",
   "execution_count": 1,
   "metadata": {},
   "outputs": [],
   "source": [
    "# Setting the environment variables"
   ]
  },
  {
   "cell_type": "code",
   "execution_count": 2,
   "metadata": {},
   "outputs": [],
   "source": [
    "import os\n",
    "import sys\n",
    "os.environ[\"PYSPARK_PYTHON\"]=\"/usr/bin/python3\"\n",
    "os.environ[\"PYSPARK_DRIVER_PYTHON\"]=\"/usr/bin/python3\"\n",
    "os.environ[\"PYSPARK_DRIVER_PYTHON_OPTS\"]=\"notebook --no-browser\"\n",
    "os.environ[\"JAVA_HOME\"] = \"/usr/java/jdk1.8.0_161/jre\"\n",
    "os.environ[\"SPARK_HOME\"] = \"/home/ec2-user/spark-2.4.4-bin-hadoop2.7\"\n",
    "os.environ[\"PYLIB\"] = os.environ[\"SPARK_HOME\"] + \"/python/lib\"\n",
    "sys.path.insert(0, os.environ[\"PYLIB\"] + \"/py4j-0.10.7-src.zip\")\n",
    "sys.path.insert(0, os.environ[\"PYLIB\"] + \"/pyspark.zip\")"
   ]
  },
  {
   "cell_type": "markdown",
   "metadata": {},
   "source": [
    "# Ecommerce Churn Assignment"
   ]
  },
  {
   "cell_type": "markdown",
   "metadata": {},
   "source": [
    "The aim of the assignment is to build a model that predicts whether a person purchases an item after it has been added to the cart or not. Being a classification problem, you are expected to use your understanding of all the three models covered till now. You must select the most robust model and provide a solution that predicts the churn in the most suitable manner. \n",
    "\n",
    "For this assignment, you are provided the data associated with an e-commerce company for the month of October 2019. Your task is to first analyse the data, and then perform multiple steps towards the model building process.\n",
    "\n",
    "The broad tasks are:\n",
    "- Data Exploration\n",
    "- Feature Engineering\n",
    "- Model Selection\n",
    "- Model Inference"
   ]
  },
  {
   "cell_type": "markdown",
   "metadata": {},
   "source": [
    "### Data description"
   ]
  },
  {
   "cell_type": "markdown",
   "metadata": {},
   "source": [
    "The dataset stores the information of a customer session on the e-commerce platform. It records the activity and the associated parameters with it.\n",
    "\n",
    "- **event_time**: Date and time when user accesses the platform\n",
    "- **event_type**: Action performed by the customer\n",
    "            - View\n",
    "            - Cart\n",
    "            - Purchase\n",
    "            - Remove from cart\n",
    "- **product_id**: Unique number to identify the product in the event\n",
    "- **category_id**: Unique number to identify the category of the product\n",
    "- **category_code**: Stores primary and secondary categories of the product\n",
    "- **brand**: Brand associated with the product\n",
    "- **price**: Price of the product\n",
    "- **user_id**: Unique ID for a customer\n",
    "- **user_session**: Session ID for a user\n"
   ]
  },
  {
   "cell_type": "markdown",
   "metadata": {},
   "source": [
    "### Initialising the SparkSession"
   ]
  },
  {
   "cell_type": "markdown",
   "metadata": {},
   "source": [
    "The dataset provided is 5 GBs in size. Therefore, it is expected that you increase the driver memory to a greater number."
   ]
  },
  {
   "cell_type": "code",
   "execution_count": 3,
   "metadata": {},
   "outputs": [],
   "source": [
    "# Spark environment\n",
    "from pyspark import SparkConf\n",
    "from pyspark.sql import SparkSession"
   ]
  },
  {
   "cell_type": "code",
   "execution_count": 4,
   "metadata": {},
   "outputs": [
    {
     "data": {
      "text/html": [
       "\n",
       "            <div>\n",
       "                <p><b>SparkSession - in-memory</b></p>\n",
       "                \n",
       "        <div>\n",
       "            <p><b>SparkContext</b></p>\n",
       "\n",
       "            <p><a href=\"http://ip-172-31-71-243.ec2.internal:4041\">Spark UI</a></p>\n",
       "\n",
       "            <dl>\n",
       "              <dt>Version</dt>\n",
       "                <dd><code>v2.4.4</code></dd>\n",
       "              <dt>Master</dt>\n",
       "                <dd><code>local[*]</code></dd>\n",
       "              <dt>AppName</dt>\n",
       "                <dd><code>demo</code></dd>\n",
       "            </dl>\n",
       "        </div>\n",
       "        \n",
       "            </div>\n",
       "        "
      ],
      "text/plain": [
       "<pyspark.sql.session.SparkSession at 0x7f0b2f81acd0>"
      ]
     },
     "execution_count": 4,
     "metadata": {},
     "output_type": "execute_result"
    }
   ],
   "source": [
    "# initialising the session with 14 GB driver memory\n",
    "MAX_MEMORY = \"14G\"\n",
    "\n",
    "spark = SparkSession \\\n",
    "    .builder \\\n",
    "    .appName(\"demo\") \\\n",
    "    .config(\"spark.driver.memory\", MAX_MEMORY) \\\n",
    "    .getOrCreate()\n",
    "\n",
    "spark"
   ]
  },
  {
   "cell_type": "code",
   "execution_count": 5,
   "metadata": {},
   "outputs": [
    {
     "data": {
      "text/plain": [
       "'14G'"
      ]
     },
     "execution_count": 5,
     "metadata": {},
     "output_type": "execute_result"
    }
   ],
   "source": [
    "# Spark session with 14 GB driver memory\n",
    "spark.sparkContext.getConf().get('spark.driver.memory')"
   ]
  },
  {
   "cell_type": "code",
   "execution_count": 6,
   "metadata": {},
   "outputs": [],
   "source": [
    "# loading the dataset from the EC2 instance - 2019-Oct.csv\n",
    "df = spark.read.csv('/home/ec2-user/inputdata/2019-Oct.csv', header=True, inferSchema=True)"
   ]
  },
  {
   "cell_type": "code",
   "execution_count": 7,
   "metadata": {},
   "outputs": [
    {
     "data": {
      "text/plain": [
       "[Row(event_time='2019-10-01 00:00:00 UTC', event_type='view', product_id=44600062, category_id=2103807459595387724, category_code=None, brand='shiseido', price=35.79, user_id=541312140, user_session='72d76fde-8bb3-4e00-8c23-a032dfed738c'),\n",
       " Row(event_time='2019-10-01 00:00:00 UTC', event_type='view', product_id=3900821, category_id=2053013552326770905, category_code='appliances.environment.water_heater', brand='aqua', price=33.2, user_id=554748717, user_session='9333dfbd-b87a-4708-9857-6336556b0fcc'),\n",
       " Row(event_time='2019-10-01 00:00:01 UTC', event_type='view', product_id=17200506, category_id=2053013559792632471, category_code='furniture.living_room.sofa', brand=None, price=543.1, user_id=519107250, user_session='566511c2-e2e3-422b-b695-cf8e6e792ca8'),\n",
       " Row(event_time='2019-10-01 00:00:01 UTC', event_type='view', product_id=1307067, category_id=2053013558920217191, category_code='computers.notebook', brand='lenovo', price=251.74, user_id=550050854, user_session='7c90fc70-0e80-4590-96f3-13c02c18c713'),\n",
       " Row(event_time='2019-10-01 00:00:04 UTC', event_type='view', product_id=1004237, category_id=2053013555631882655, category_code='electronics.smartphone', brand='apple', price=1081.98, user_id=535871217, user_session='c6bd7419-2748-4c56-95b4-8cec9ff8b80d'),\n",
       " Row(event_time='2019-10-01 00:00:05 UTC', event_type='view', product_id=1480613, category_id=2053013561092866779, category_code='computers.desktop', brand='pulser', price=908.62, user_id=512742880, user_session='0d0d91c2-c9c2-4e81-90a5-86594dec0db9'),\n",
       " Row(event_time='2019-10-01 00:00:08 UTC', event_type='view', product_id=17300353, category_id=2053013553853497655, category_code=None, brand='creed', price=380.96, user_id=555447699, user_session='4fe811e9-91de-46da-90c3-bbd87ed3a65d'),\n",
       " Row(event_time='2019-10-01 00:00:08 UTC', event_type='view', product_id=31500053, category_id=2053013558031024687, category_code=None, brand='luminarc', price=41.16, user_id=550978835, user_session='6280d577-25c8-4147-99a7-abc6048498d6'),\n",
       " Row(event_time='2019-10-01 00:00:10 UTC', event_type='view', product_id=28719074, category_id=2053013565480109009, category_code='apparel.shoes.keds', brand='baden', price=102.71, user_id=520571932, user_session='ac1cd4e5-a3ce-4224-a2d7-ff660a105880'),\n",
       " Row(event_time='2019-10-01 00:00:11 UTC', event_type='view', product_id=1004545, category_id=2053013555631882655, category_code='electronics.smartphone', brand='huawei', price=566.01, user_id=537918940, user_session='406c46ed-90a4-4787-a43b-59a410c1a5fb'),\n",
       " Row(event_time='2019-10-01 00:00:11 UTC', event_type='view', product_id=2900536, category_id=2053013554776244595, category_code='appliances.kitchen.microwave', brand='elenberg', price=51.46, user_id=555158050, user_session='b5bdd0b3-4ca2-4c55-939e-9ce44bb50abd'),\n",
       " Row(event_time='2019-10-01 00:00:11 UTC', event_type='view', product_id=1005011, category_id=2053013555631882655, category_code='electronics.smartphone', brand='samsung', price=900.64, user_id=530282093, user_session='50a293fb-5940-41b2-baf3-17af0e812101'),\n",
       " Row(event_time='2019-10-01 00:00:13 UTC', event_type='view', product_id=3900746, category_id=2053013552326770905, category_code='appliances.environment.water_heater', brand='haier', price=102.38, user_id=555444559, user_session='98b88fa0-d8fa-4b9d-8a71-3dd403afab85'),\n",
       " Row(event_time='2019-10-01 00:00:15 UTC', event_type='view', product_id=44600062, category_id=2103807459595387724, category_code=None, brand='shiseido', price=35.79, user_id=541312140, user_session='72d76fde-8bb3-4e00-8c23-a032dfed738c'),\n",
       " Row(event_time='2019-10-01 00:00:16 UTC', event_type='view', product_id=13500240, category_id=2053013557099889147, category_code='furniture.bedroom.bed', brand='brw', price=93.18, user_id=555446365, user_session='7f0062d8-ead0-4e0a-96f6-43a0b79a2fc4'),\n",
       " Row(event_time='2019-10-01 00:00:17 UTC', event_type='view', product_id=23100006, category_id=2053013561638126333, category_code=None, brand=None, price=357.79, user_id=513642368, user_session='17566c27-0a8f-4506-9f30-c6a2ccbf583b'),\n",
       " Row(event_time='2019-10-01 00:00:18 UTC', event_type='view', product_id=1801995, category_id=2053013554415534427, category_code='electronics.video.tv', brand='haier', price=193.03, user_id=537192226, user_session='e3151795-c355-4efa-acf6-e1fe1bebeee5'),\n",
       " Row(event_time='2019-10-01 00:00:18 UTC', event_type='view', product_id=10900029, category_id=2053013555069845885, category_code='appliances.kitchen.mixer', brand='bosch', price=58.95, user_id=519528062, user_session='901b9e3c-3f8f-4147-a442-c25d5c5ed332'),\n",
       " Row(event_time='2019-10-01 00:00:19 UTC', event_type='view', product_id=1306631, category_id=2053013558920217191, category_code='computers.notebook', brand='hp', price=580.89, user_id=550050854, user_session='7c90fc70-0e80-4590-96f3-13c02c18c713'),\n",
       " Row(event_time='2019-10-01 00:00:19 UTC', event_type='view', product_id=1005135, category_id=2053013555631882655, category_code='electronics.smartphone', brand='apple', price=1747.79, user_id=535871217, user_session='c6bd7419-2748-4c56-95b4-8cec9ff8b80d')]"
      ]
     },
     "execution_count": 7,
     "metadata": {},
     "output_type": "execute_result"
    }
   ],
   "source": [
    "# exploring the dataframe - top 20 rows\n",
    "\n",
    "df.head(20)"
   ]
  },
  {
   "cell_type": "code",
   "execution_count": 8,
   "metadata": {
    "scrolled": true
   },
   "outputs": [
    {
     "name": "stdout",
     "output_type": "stream",
     "text": [
      "root\n",
      " |-- event_time: string (nullable = true)\n",
      " |-- event_type: string (nullable = true)\n",
      " |-- product_id: integer (nullable = true)\n",
      " |-- category_id: long (nullable = true)\n",
      " |-- category_code: string (nullable = true)\n",
      " |-- brand: string (nullable = true)\n",
      " |-- price: double (nullable = true)\n",
      " |-- user_id: integer (nullable = true)\n",
      " |-- user_session: string (nullable = true)\n",
      "\n"
     ]
    }
   ],
   "source": [
    "# exploring the dataframe - schema\n",
    "\n",
    "df.printSchema()"
   ]
  },
  {
   "cell_type": "code",
   "execution_count": 9,
   "metadata": {
    "scrolled": false
   },
   "outputs": [
    {
     "data": {
      "text/plain": [
       "42448764"
      ]
     },
     "execution_count": 9,
     "metadata": {},
     "output_type": "execute_result"
    }
   ],
   "source": [
    "# Number of rows and columns in the dataset\n",
    "\n",
    "df.count()"
   ]
  },
  {
   "cell_type": "markdown",
   "metadata": {},
   "source": [
    "So, we have a huge dataset that contains 42 million rows.\n",
    "\n",
    "Now, tha dataset is loaded in Spark environment. Let's proceed with the desired tasks."
   ]
  },
  {
   "cell_type": "markdown",
   "metadata": {},
   "source": [
    "<hr>"
   ]
  },
  {
   "cell_type": "markdown",
   "metadata": {},
   "source": [
    "## Task 1 - Data Exploration\n",
    "\n",
    "**Find**\n",
    "- 5 most popular:\n",
    "    - Products sold by the e-commerce company in the month\n",
    "    - Brands on the platform\n",
    "    - Product categories\n",
    "- Number of unique users and the most active user on the platform\n",
    "- Average and maximum price for smartphones purchased by the customers\n",
    "<br>\n",
    "\n",
    "**Plot and comment**\n",
    "- Event-type funnel distribution in e-commerce shopping journey\n",
    "- Traffic on different days of the week\n",
    "\n",
    "Provide the results in a separate report."
   ]
  },
  {
   "cell_type": "code",
   "execution_count": 10,
   "metadata": {
    "scrolled": true
   },
   "outputs": [
    {
     "name": "stdout",
     "output_type": "stream",
     "text": [
      "+----------+------+\n",
      "|product_id| count|\n",
      "+----------+------+\n",
      "|   1004856|500354|\n",
      "|   1004767|438232|\n",
      "|   1005115|355786|\n",
      "|   1004833|237545|\n",
      "|   1004249|231070|\n",
      "+----------+------+\n",
      "only showing top 5 rows\n",
      "\n"
     ]
    }
   ],
   "source": [
    "# 5 most popular products sold\n",
    "\n",
    "from pyspark.sql.functions import col\n",
    "\n",
    "df.groupBy('product_id').count().sort(col('count').desc()).show(5)"
   ]
  },
  {
   "cell_type": "code",
   "execution_count": 11,
   "metadata": {},
   "outputs": [
    {
     "name": "stdout",
     "output_type": "stream",
     "text": [
      "+-------+-------+\n",
      "|  brand|  count|\n",
      "+-------+-------+\n",
      "|   null|6113008|\n",
      "|samsung|5282775|\n",
      "|  apple|4122554|\n",
      "| xiaomi|3083763|\n",
      "| huawei|1111205|\n",
      "|lucente| 655861|\n",
      "+-------+-------+\n",
      "only showing top 6 rows\n",
      "\n"
     ]
    }
   ],
   "source": [
    "# 5 most popular brands\n",
    "\n",
    "df.groupBy('brand').count().sort(col('count').desc()).show(6)"
   ]
  },
  {
   "cell_type": "code",
   "execution_count": 10,
   "metadata": {},
   "outputs": [
    {
     "name": "stdout",
     "output_type": "stream",
     "text": [
      "+---------------------------+--------+\n",
      "|category_code              |count   |\n",
      "+---------------------------+--------+\n",
      "|null                       |13515609|\n",
      "|electronics.smartphone     |11507231|\n",
      "|electronics.clocks         |1311033 |\n",
      "|computers.notebook         |1137623 |\n",
      "|electronics.video.tv       |1113750 |\n",
      "|electronics.audio.headphone|1100188 |\n",
      "+---------------------------+--------+\n",
      "only showing top 6 rows\n",
      "\n"
     ]
    }
   ],
   "source": [
    "# 5 most popular product categories\n",
    "\n",
    "from pyspark.sql.functions import col\n",
    "\n",
    "df.groupBy('category_code').count().sort(col('count').desc()).show(6,False)"
   ]
  },
  {
   "cell_type": "code",
   "execution_count": 12,
   "metadata": {
    "scrolled": true
   },
   "outputs": [
    {
     "name": "stdout",
     "output_type": "stream",
     "text": [
      "+-----------------------+\n",
      "|count(DISTINCT user_id)|\n",
      "+-----------------------+\n",
      "|                3022290|\n",
      "+-----------------------+\n",
      "\n"
     ]
    }
   ],
   "source": [
    "# Number of unique users\n",
    "from pyspark.sql.functions import countDistinct\n",
    "\n",
    "df.select(countDistinct('user_id')).show()"
   ]
  },
  {
   "cell_type": "code",
   "execution_count": 13,
   "metadata": {
    "scrolled": true
   },
   "outputs": [
    {
     "name": "stdout",
     "output_type": "stream",
     "text": [
      "+---------+-----+\n",
      "|  user_id|count|\n",
      "+---------+-----+\n",
      "|512475445| 7436|\n",
      "|512365995| 4013|\n",
      "|526731152| 2912|\n",
      "|512505687| 2894|\n",
      "|513021392| 2862|\n",
      "|546159478| 2433|\n",
      "|546270188| 2426|\n",
      "|514649263| 2390|\n",
      "|516308435| 2316|\n",
      "|512401084| 2232|\n",
      "|551211823| 2198|\n",
      "|537873067| 2187|\n",
      "|512786243| 2178|\n",
      "|532769022| 2165|\n",
      "|559249905| 2071|\n",
      "|512792872| 1982|\n",
      "|513828022| 1979|\n",
      "|563459593| 1950|\n",
      "|522244661| 1913|\n",
      "|515240336| 1897|\n",
      "+---------+-----+\n",
      "only showing top 20 rows\n",
      "\n"
     ]
    }
   ],
   "source": [
    "# The most active user on the platform\n",
    "\n",
    "df.groupBy('user_id').count().sort(col('count').desc()).show()"
   ]
  },
  {
   "cell_type": "code",
   "execution_count": 14,
   "metadata": {},
   "outputs": [
    {
     "name": "stdout",
     "output_type": "stream",
     "text": [
      "+----------------------+----------+\n",
      "|category_code         |max(price)|\n",
      "+----------------------+----------+\n",
      "|electronics.smartphone|2110.45   |\n",
      "+----------------------+----------+\n",
      "\n"
     ]
    }
   ],
   "source": [
    "# Average and Maximum price for smartphones purchased by the customers\n",
    "\n",
    "from pyspark.sql.functions import max as maxval\n",
    "from pyspark.sql.functions import mean as avgval\n",
    "\n",
    "df.groupBy('category_code').agg(maxval(\"price\")).where(col('category_code') == 'electronics.smartphone').show(50,truncate=False)"
   ]
  },
  {
   "cell_type": "code",
   "execution_count": 15,
   "metadata": {},
   "outputs": [
    {
     "name": "stdout",
     "output_type": "stream",
     "text": [
      "+----------------------+-----------------+\n",
      "|category_code         |avg(price)       |\n",
      "+----------------------+-----------------+\n",
      "|electronics.smartphone|471.9470821347332|\n",
      "+----------------------+-----------------+\n",
      "\n"
     ]
    }
   ],
   "source": [
    "df.groupBy('category_code').agg(avgval(\"price\")).where(col('category_code') == 'electronics.smartphone').show(50,truncate=False)"
   ]
  },
  {
   "cell_type": "markdown",
   "metadata": {},
   "source": [
    " "
   ]
  },
  {
   "cell_type": "code",
   "execution_count": 16,
   "metadata": {},
   "outputs": [
    {
     "data": {
      "text/plain": [
       "<Figure size 2160x1440 with 0 Axes>"
      ]
     },
     "metadata": {},
     "output_type": "display_data"
    },
    {
     "data": {
      "image/png": "[encoded data removed]",
      "text/plain": [
       "<Figure size 432x288 with 1 Axes>"
      ]
     },
     "metadata": {
      "needs_background": "light"
     },
     "output_type": "display_data"
    }
   ],
   "source": [
    "# Event-type funnel distribution\n",
    "# Remember Spark dataframe cannot be visualised directly\n",
    "\n",
    "import matplotlib.pyplot as plt\n",
    "\n",
    "funnel_data = df.select('event_type').groupBy('event_type').count().toPandas()\n",
    "\n",
    "plt.figure(figsize=(30,20))\n",
    "funnel_data.plot(x = 'event_type', y = 'count', kind='bar')\n",
    "\n",
    "plt.show()"
   ]
  },
  {
   "cell_type": "code",
   "execution_count": 17,
   "metadata": {},
   "outputs": [],
   "source": [
    "from pyspark.sql.functions import to_timestamp,dayofweek,hour\n",
    "\n",
    "df = df.withColumn('event_timestamp', to_timestamp('event_time', 'yyyy-MM-dd HH:mm:ss'))"
   ]
  },
  {
   "cell_type": "code",
   "execution_count": 18,
   "metadata": {},
   "outputs": [],
   "source": [
    "df = df.withColumn('event_day', dayofweek(df['event_timestamp']))\n",
    "\n",
    "day_traffic_df = df.select('event_day').groupBy('event_day').count().orderBy('event_day').toPandas()"
   ]
  },
  {
   "cell_type": "code",
   "execution_count": 19,
   "metadata": {},
   "outputs": [
    {
     "data": {
      "text/plain": [
       "<Figure size 2160x1440 with 0 Axes>"
      ]
     },
     "metadata": {},
     "output_type": "display_data"
    },
    {
     "data": {
      "image/png": "[encoded data removed]",
      "text/plain": [
       "<Figure size 432x288 with 1 Axes>"
      ]
     },
     "metadata": {
      "needs_background": "light"
     },
     "output_type": "display_data"
    }
   ],
   "source": [
    "# Traffic on different days of the week\n",
    "# Remember Spark dataframe cannot be visualised directly\n",
    "\n",
    "plt.figure(figsize=(30,20))\n",
    "day_traffic_df.plot(x = 'event_day', y = 'count', kind='bar')\n",
    "\n",
    "plt.show()"
   ]
  },
  {
   "cell_type": "code",
   "execution_count": null,
   "metadata": {},
   "outputs": [],
   "source": []
  },
  {
   "cell_type": "code",
   "execution_count": 20,
   "metadata": {},
   "outputs": [],
   "source": [
    "# drop redundant column(s), if any\n",
    "\n",
    "df = df.drop('event_time')"
   ]
  },
  {
   "cell_type": "markdown",
   "metadata": {},
   "source": [
    "<hr>"
   ]
  },
  {
   "cell_type": "markdown",
   "metadata": {},
   "source": [
    "## Task 2 - Feature Engineering\n",
    "\n",
    "- Handle missing values (provide justification for approach)\n",
    "- Generate the category code at 2 levels (Split into 2 columns)\n",
    "    - Example: electronics.video.tv - electronics, video\n",
    "- Capture user activity in different columns\n",
    "    - Total activities (view/cart/etc.) in the session\n",
    "    - Affinity towards a particular product (Product count for user)\n",
    "    - Affinity towards a category (Secondary category count for user)\n",
    "    - Average shopping expense for a product category (secondary)\n",
    "    - Number of user sessions\n",
    "- Impact of time: Day and Hour (Binning hours into 4 buckets)\n",
    "- Reduction in brands for analysis: Top 20 + ‘others’\n",
    "- Target variable generation: is_purchased\n"
   ]
  },
  {
   "cell_type": "code",
   "execution_count": 21,
   "metadata": {
    "scrolled": true
   },
   "outputs": [
    {
     "name": "stdout",
     "output_type": "stream",
     "text": [
      "+---------------------------------------------------------+---------------------------------------------------------+-----------------------------------------------------------+---------------------------------------------------------------+-----------------------------------------------+-----------------------------------------------+---------------------------------------------------+-------------------------------------------------------------+-------------------------------------------------------------------+-------------------------------------------------------+\n",
      "|count(CASE WHEN (event_type IS NULL) THEN event_type END)|count(CASE WHEN (product_id IS NULL) THEN product_id END)|count(CASE WHEN (category_id IS NULL) THEN category_id END)|count(CASE WHEN (category_code IS NULL) THEN category_code END)|count(CASE WHEN (brand IS NULL) THEN brand END)|count(CASE WHEN (price IS NULL) THEN price END)|count(CASE WHEN (user_id IS NULL) THEN user_id END)|count(CASE WHEN (user_session IS NULL) THEN user_session END)|count(CASE WHEN (event_timestamp IS NULL) THEN event_timestamp END)|count(CASE WHEN (event_day IS NULL) THEN event_day END)|\n",
      "+---------------------------------------------------------+---------------------------------------------------------+-----------------------------------------------------------+---------------------------------------------------------------+-----------------------------------------------+-----------------------------------------------+---------------------------------------------------+-------------------------------------------------------------+-------------------------------------------------------------------+-------------------------------------------------------+\n",
      "|                                                        0|                                                        0|                                                          0|                                                       13515609|                                        6113008|                                              0|                                                  0|                                                            2|                                                                  0|                                                      0|\n",
      "+---------------------------------------------------------+---------------------------------------------------------+-----------------------------------------------------------+---------------------------------------------------------------+-----------------------------------------------+-----------------------------------------------+---------------------------------------------------+-------------------------------------------------------------+-------------------------------------------------------------------+-------------------------------------------------------+\n",
      "\n"
     ]
    }
   ],
   "source": [
    "# Handling missing values \n",
    "\n",
    "from pyspark.sql.functions import isnull,when,count\n",
    "df.select([count(when(isnull(cols), cols)) for cols in df.columns]).show()"
   ]
  },
  {
   "cell_type": "code",
   "execution_count": 22,
   "metadata": {},
   "outputs": [],
   "source": [
    "df = df.na.drop()"
   ]
  },
  {
   "cell_type": "markdown",
   "metadata": {},
   "source": [
    "Reason for the action performed:\n",
    "\n"
   ]
  },
  {
   "cell_type": "code",
   "execution_count": 23,
   "metadata": {},
   "outputs": [
    {
     "data": {
      "text/plain": [
       "26534109"
      ]
     },
     "execution_count": 23,
     "metadata": {},
     "output_type": "execute_result"
    }
   ],
   "source": [
    "# Checking for duplicate entries\n",
    "\n",
    "df.distinct().count()"
   ]
  },
  {
   "cell_type": "code",
   "execution_count": 24,
   "metadata": {},
   "outputs": [],
   "source": [
    "# Take required action here\n",
    "\n",
    "df = df.dropDuplicates()"
   ]
  },
  {
   "cell_type": "code",
   "execution_count": 25,
   "metadata": {
    "scrolled": true
   },
   "outputs": [],
   "source": [
    "# drop redundant column(s), if any\n",
    "\n",
    "df = df.drop('category_id')"
   ]
  },
  {
   "cell_type": "markdown",
   "metadata": {},
   "source": [
    " "
   ]
  },
  {
   "cell_type": "code",
   "execution_count": 26,
   "metadata": {},
   "outputs": [],
   "source": [
    "# Generating 2 columns from category code\n",
    "# Columns have only single entity (electronics.video.tv: electronics, video)\n",
    "# Check if split command works with '.' or Spark treats it as special character\n",
    "\n",
    "from pyspark.sql.functions import split\n",
    "df = df.withColumn('main_categ', split(col('category_code'), \"\\.\").getItem(0)).withColumn('sub_categ', split(col('category_code'), \"\\.\").getItem(1))"
   ]
  },
  {
   "cell_type": "code",
   "execution_count": 27,
   "metadata": {},
   "outputs": [
    {
     "name": "stdout",
     "output_type": "stream",
     "text": [
      "root\n",
      " |-- event_type: string (nullable = true)\n",
      " |-- product_id: integer (nullable = true)\n",
      " |-- category_code: string (nullable = true)\n",
      " |-- brand: string (nullable = true)\n",
      " |-- price: double (nullable = true)\n",
      " |-- user_id: integer (nullable = true)\n",
      " |-- user_session: string (nullable = true)\n",
      " |-- event_timestamp: timestamp (nullable = true)\n",
      " |-- event_day: integer (nullable = true)\n",
      " |-- main_categ: string (nullable = true)\n",
      " |-- sub_categ: string (nullable = true)\n",
      "\n"
     ]
    }
   ],
   "source": [
    "# Check if the column is added\n",
    "\n",
    "df.printSchema()"
   ]
  },
  {
   "cell_type": "markdown",
   "metadata": {},
   "source": [
    " "
   ]
  },
  {
   "cell_type": "code",
   "execution_count": 28,
   "metadata": {},
   "outputs": [],
   "source": [
    "# Activities in a session by the user\n",
    "# Window functions can be helpful here\n",
    "\n",
    "import pyspark.sql.functions as F\n",
    "from pyspark.sql import Window\n",
    "\n",
    "df = df.withColumn('user_session_activity', F.count('user_session').over(Window.partitionBy('user_session')))"
   ]
  },
  {
   "cell_type": "code",
   "execution_count": 29,
   "metadata": {},
   "outputs": [],
   "source": [
    "# View count for a product by the user\n",
    "# Window functions can be helpful here\n",
    "\n",
    "df = df.withColumn('user_product_count', F.count('user_id').over(Window.partitionBy('user_id','product_id')))"
   ]
  },
  {
   "cell_type": "code",
   "execution_count": 30,
   "metadata": {},
   "outputs": [],
   "source": [
    "# View count for the secondary category by the user\n",
    "# Window functions can be helpful here\n",
    "\n",
    "df = df.withColumn('sub_categ_user_count', F.count('user_id').over(Window.partitionBy('user_id','sub_categ')))"
   ]
  },
  {
   "cell_type": "code",
   "execution_count": 31,
   "metadata": {},
   "outputs": [],
   "source": [
    "# Average shopping expense for a product category\n",
    "# Window functions can be helpful here\n",
    "\n",
    "df = df.withColumn('prod_avg_spend', F.avg('price').over(Window.partitionBy('user_id','sub_categ')))"
   ]
  },
  {
   "cell_type": "code",
   "execution_count": 32,
   "metadata": {},
   "outputs": [],
   "source": [
    "# Session count for a user\n",
    "# Window functions can be helpful here\n",
    "\n",
    "df = df.withColumn('user_sess_count', F.approx_count_distinct('user_session').over(Window.partitionBy('user_id')))"
   ]
  },
  {
   "cell_type": "markdown",
   "metadata": {},
   "source": [
    " "
   ]
  },
  {
   "cell_type": "code",
   "execution_count": 33,
   "metadata": {},
   "outputs": [],
   "source": [
    "# Generating the hour variable\n",
    "\n",
    "from pyspark.sql.functions import hour\n",
    "df = df.withColumn('hour', hour(df['event_timestamp']))"
   ]
  },
  {
   "cell_type": "markdown",
   "metadata": {},
   "source": [
    " "
   ]
  },
  {
   "cell_type": "markdown",
   "metadata": {},
   "source": [
    " "
   ]
  },
  {
   "cell_type": "code",
   "execution_count": 34,
   "metadata": {},
   "outputs": [
    {
     "name": "stdout",
     "output_type": "stream",
     "text": [
      "+--------+-------+\n",
      "|   brand|  count|\n",
      "+--------+-------+\n",
      "|  others|8880932|\n",
      "| samsung|5147344|\n",
      "|   apple|4087084|\n",
      "|  xiaomi|2695456|\n",
      "|  huawei|1090907|\n",
      "|      lg| 508504|\n",
      "|    oppo| 482131|\n",
      "|    acer| 427810|\n",
      "|  lenovo| 337854|\n",
      "|   bosch| 329665|\n",
      "|      hp| 294927|\n",
      "| indesit| 289681|\n",
      "| respect| 255502|\n",
      "|   casio| 253547|\n",
      "|   artel| 237098|\n",
      "|    sony| 221161|\n",
      "|elenberg| 217987|\n",
      "|    asus| 211622|\n",
      "|    beko| 206664|\n",
      "|   haier| 180166|\n",
      "| pioneer| 178067|\n",
      "+--------+-------+\n",
      "\n"
     ]
    }
   ],
   "source": [
    "# Reduction in brands for analysis: Top 20 + ‘others'\n",
    "\n",
    "top_brand_df = df.groupBy('brand').count().orderBy('count',ascending=False).toPandas()\n",
    "top_brand_list = list(top_brand_df['brand'][20:])\n",
    "df = df.replace(top_brand_list, 'others', subset=['brand'])\n",
    "df.groupBy('brand').count().orderBy('count',ascending=False).show(21)"
   ]
  },
  {
   "cell_type": "code",
   "execution_count": null,
   "metadata": {},
   "outputs": [],
   "source": []
  },
  {
   "cell_type": "markdown",
   "metadata": {},
   "source": [
    " "
   ]
  },
  {
   "cell_type": "code",
   "execution_count": 35,
   "metadata": {},
   "outputs": [],
   "source": [
    "# Generating 'is_purchased' variable\n",
    "\n",
    "df = df.withColumn('is_purchased', F.when(df['event_type']=='purchase',1).otherwise(0))\n",
    "\n",
    "df = df.withColumn(\"label\", F.max(\"is_purchased\").over(Window.partitionBy('user_id','product_id')))"
   ]
  },
  {
   "cell_type": "code",
   "execution_count": 36,
   "metadata": {},
   "outputs": [],
   "source": [
    "# Dropping redundant rows\n",
    "\n",
    "df = df.filter(df.event_type=='cart')"
   ]
  },
  {
   "cell_type": "code",
   "execution_count": 37,
   "metadata": {},
   "outputs": [
    {
     "name": "stdout",
     "output_type": "stream",
     "text": [
      "+----------+----------+--------------------+--------+-------+---------+--------------------+-------------------+---------+-----------+----------+---------------------+------------------+--------------------+------------------+---------------+----+------------+-----+\n",
      "|event_type|product_id|       category_code|   brand|  price|  user_id|        user_session|    event_timestamp|event_day| main_categ| sub_categ|user_session_activity|user_product_count|sub_categ_user_count|    prod_avg_spend|user_sess_count|hour|is_purchased|label|\n",
      "+----------+----------+--------------------+--------+-------+---------+--------------------+-------------------+---------+-----------+----------+---------------------+------------------+--------------------+------------------+---------------+----+------------+-----+\n",
      "|      cart|   1004870|electronics.smart...| samsung| 283.62|454388908|a45905b4-f628-4df...|2019-10-22 10:26:12|        3|electronics|smartphone|                    2|                 2|                   3| 270.4633333333333|              2|  10|           0|    0|\n",
      "|      cart|   1004788|electronics.smart...|  xiaomi| 138.71|457561774|ece78e82-a52d-499...|2019-10-30 17:17:49|        4|electronics|smartphone|                    2|                 2|                   3|213.38666666666668|              2|  17|           0|    0|\n",
      "|      cart|   1003306|electronics.smart...|   apple| 581.83|498549511|a33fd664-c116-491...|2019-10-09 14:27:44|        4|electronics|smartphone|                    9|                 9|                  14| 643.4971428571429|              4|  14|           0|    0|\n",
      "|      cart|   1002544|electronics.smart...|   apple| 460.54|506848541|9804168a-fb3e-431...|2019-10-11 10:04:50|        6|electronics|smartphone|                    3|                 5|                   6| 408.0316666666667|              3|  10|           0|    0|\n",
      "|      cart|   1801690|electronics.video.tv| samsung| 369.37|512372691|143ebb38-dfae-476...|2019-10-26 14:58:36|        7|electronics|     video|                    6|                 6|                   6|369.36999999999995|              3|  14|           0|    1|\n",
      "|      cart|   1801690|electronics.video.tv| samsung| 369.37|512372691|143ebb38-dfae-476...|2019-10-26 14:58:30|        7|electronics|     video|                    6|                 6|                   6|369.36999999999995|              3|  14|           0|    1|\n",
      "|      cart|   2900536|appliances.kitche...|elenberg|  50.91|512372691|3e0e2983-eacd-422...|2019-10-27 04:52:36|        1| appliances|   kitchen|                    5|                 4|                   5|            68.974|              3|   4|           0|    1|\n",
      "|      cart|   1004249|electronics.smart...|   apple| 746.09|512375293|5d9c8d86-4a75-43e...|2019-10-20 09:52:20|        1|electronics|smartphone|                    5|                 4|                   5| 797.0260000000001|              1|   9|           0|    1|\n",
      "|      cart|   1005133|electronics.smart...|   apple|1634.28|512375853|6e0b079a-eb8b-43c...|2019-10-15 12:20:16|        3|electronics|smartphone|                   14|                10|                  24|1816.1112499999997|              3|  12|           0|    0|\n",
      "|      cart|   1005133|electronics.smart...|   apple|1634.28|512375853|6e0b079a-eb8b-43c...|2019-10-15 12:21:08|        3|electronics|smartphone|                   14|                10|                  24|1816.1112499999997|              3|  12|           0|    0|\n",
      "|      cart|   1005105|electronics.smart...|   apple|1349.44|512380070|c6214e3e-33c6-4e1...|2019-10-31 09:42:56|        5|electronics|smartphone|                    8|                 4|                   8|1468.8200000000002|              2|   9|           0|    0|\n",
      "|      cart|   1005105|electronics.smart...|   apple|1349.44|512380070|c6214e3e-33c6-4e1...|2019-10-31 09:44:01|        5|electronics|smartphone|                    8|                 4|                   8|1468.8200000000002|              2|   9|           0|    0|\n",
      "|      cart|   1005124|electronics.smart...|   apple| 1588.2|512380070|c6214e3e-33c6-4e1...|2019-10-31 09:45:35|        5|electronics|smartphone|                    8|                 4|                   8|1468.8200000000002|              2|   9|           0|    1|\n",
      "|      cart|   1004751|electronics.smart...| samsung| 197.15|512382720|caea439f-dd2a-471...|2019-10-06 14:18:27|        1|electronics|smartphone|                    8|                 4|                  58|203.15948275862078|              6|  14|           0|    0|\n",
      "|      cart|   1004833|electronics.smart...| samsung| 172.23|512382720|51c58b7a-b9bc-4e6...|2019-10-10 17:44:02|        5|electronics|smartphone|                    4|                 4|                  58|203.15948275862078|              6|  17|           0|    1|\n",
      "|      cart|   1005169|electronics.smart...| samsung| 233.66|512382720|6ce5f0ea-ed4b-468...|2019-10-07 16:06:12|        2|electronics|smartphone|                   15|                 3|                  58|203.15948275862078|              6|  16|           0|    1|\n",
      "|      cart|   1005171|electronics.smart...| samsung| 229.09|512382720|5b5a103b-4b8c-4e6...|2019-10-11 17:05:43|        6|electronics|smartphone|                   16|                 4|                  58|203.15948275862078|              6|  17|           0|    1|\n",
      "|      cart|   1004767|electronics.smart...| samsung| 246.96|512394876|e307eba6-9c8b-4c7...|2019-10-22 06:50:11|        3|electronics|smartphone|                   17|                 5|                  27|241.41111111111118|              3|   6|           0|    1|\n",
      "|      cart|   1004836|electronics.smart...| samsung| 224.38|512394876|e307eba6-9c8b-4c7...|2019-10-22 06:59:22|        3|electronics|smartphone|                   17|                 6|                  27|241.41111111111118|              3|   6|           0|    1|\n",
      "|      cart|   1005115|electronics.smart...|   apple| 975.56|512407417|3eea0a6c-ba07-4a5...|2019-10-06 12:15:28|        1|electronics|smartphone|                    7|                11|                  14|1022.7078571428568|              4|  12|           0|    1|\n",
      "+----------+----------+--------------------+--------+-------+---------+--------------------+-------------------+---------+-----------+----------+---------------------+------------------+--------------------+------------------+---------------+----+------------+-----+\n",
      "only showing top 20 rows\n",
      "\n"
     ]
    }
   ],
   "source": [
    "# Printing the top 20 rows as output\n",
    "\n",
    "df.show(20)"
   ]
  },
  {
   "cell_type": "code",
   "execution_count": 38,
   "metadata": {},
   "outputs": [],
   "source": [
    "# Dropping the redundant columns \n",
    "\n",
    "df = df.drop('event_type', 'product_id', 'category_code', 'user_id', 'user_session', 'event_timestamp', 'main_categ',\\\n",
    "             'hour', 'is_purchased')"
   ]
  },
  {
   "cell_type": "code",
   "execution_count": 39,
   "metadata": {
    "scrolled": false
   },
   "outputs": [
    {
     "data": {
      "text/plain": [
       "['brand',\n",
       " 'price',\n",
       " 'event_day',\n",
       " 'sub_categ',\n",
       " 'user_session_activity',\n",
       " 'user_product_count',\n",
       " 'sub_categ_user_count',\n",
       " 'prod_avg_spend',\n",
       " 'user_sess_count',\n",
       " 'label']"
      ]
     },
     "execution_count": 39,
     "metadata": {},
     "output_type": "execute_result"
    }
   ],
   "source": [
    "# Columns in df after feature engineering\n",
    "\n",
    "df.columns"
   ]
  },
  {
   "cell_type": "code",
   "execution_count": 40,
   "metadata": {},
   "outputs": [
    {
     "name": "stdout",
     "output_type": "stream",
     "text": [
      "root\n",
      " |-- brand: string (nullable = true)\n",
      " |-- price: double (nullable = true)\n",
      " |-- event_day: integer (nullable = true)\n",
      " |-- sub_categ: string (nullable = true)\n",
      " |-- user_session_activity: long (nullable = false)\n",
      " |-- user_product_count: long (nullable = false)\n",
      " |-- sub_categ_user_count: long (nullable = false)\n",
      " |-- prod_avg_spend: double (nullable = true)\n",
      " |-- user_sess_count: long (nullable = false)\n",
      " |-- label: integer (nullable = true)\n",
      "\n"
     ]
    }
   ],
   "source": [
    "df.printSchema()"
   ]
  },
  {
   "cell_type": "code",
   "execution_count": 41,
   "metadata": {},
   "outputs": [],
   "source": [
    "# Storing the cleaned df in the instance to prevent repetition of steps again\n",
    "# Rename the file based on your preferences\n",
    "df.coalesce(1).write.option(\"header\", \"true\").parquet(\"cleaned_df.parquet\")"
   ]
  },
  {
   "cell_type": "markdown",
   "metadata": {},
   "source": [
    "Proceed to another notebooks after saving the dataframe."
   ]
  }
 ],
 "metadata": {
  "kernelspec": {
   "display_name": "Python 3",
   "language": "python",
   "name": "python3"
  },
  "language_info": {
   "codemirror_mode": {
    "name": "ipython",
    "version": 3
   },
   "file_extension": ".py",
   "mimetype": "text/x-python",
   "name": "python",
   "nbconvert_exporter": "python",
   "pygments_lexer": "ipython3",
   "version": "3.8.10"
  }
 },
 "nbformat": 4,
 "nbformat_minor": 4
}
